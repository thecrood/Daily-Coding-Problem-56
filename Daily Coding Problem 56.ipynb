{
 "cells": [
  {
   "cell_type": "markdown",
   "id": "29d60ee6",
   "metadata": {},
   "source": [
    "# Daily Coding Problem 56"
   ]
  },
  {
   "cell_type": "raw",
   "id": "cb5ed453",
   "metadata": {},
   "source": [
    "This problem was asked by Google.\n",
    "\n",
    "Given an undirected graph represented as an adjacency matrix and an integer k, write a function to determine whether each vertex in the graph can be colored such that no two adjacent vertices share the same color using at most k colors."
   ]
  },
  {
   "cell_type": "markdown",
   "id": "cf8496ed",
   "metadata": {},
   "source": [
    "# Solution\n",
    "\n",
    "We can use backtracking to solve this problem. More specifically, we start at vertex 0, try out every color from 0 to k - 1, and then see if we can recursively paint the rest of the graph without any conflicting colors. We'll create a helper function valid(graph, colors) that looks at the last colored vertex and all its neighbours to see if it conflicts with any of its neighbours (i.e. has the same color). We can skip over all uncolored vertices here.\n",
    "\n",
    "To represent the colors, we can just keep a separate colors list that maps 1-to-1 with the vertices. You can also convert the graph into nodes and add a color property as well.\n",
    "\n"
   ]
  },
  {
   "cell_type": "code",
   "execution_count": 1,
   "id": "5952e610",
   "metadata": {},
   "outputs": [],
   "source": [
    "def valid(graph, colors):\n",
    "    last_vertex, last_color = len(colors) - 1, colors[-1]\n",
    "    colored_neighbors = [i\n",
    "            for i, has_edge\n",
    "            in enumerate(graph[last_vertex])\n",
    "            if has_edge and i < last_vertex]\n",
    "    for neighbor in colored_neighbors:\n",
    "        if colors[neighbor] == last_color:\n",
    "            return False\n",
    "    return True\n",
    "\n",
    "def colorable(graph, k, colors=[]):\n",
    "    if len(colors) == len(graph):\n",
    "        return True\n",
    "\n",
    "    for i in range(k):\n",
    "        colors.append(i)\n",
    "        if valid(graph, colors):\n",
    "            if colorable(graph, k, colors):\n",
    "                return True\n",
    "        colors.pop()\n",
    "\n",
    "    return False"
   ]
  },
  {
   "cell_type": "markdown",
   "id": "11f3f43c",
   "metadata": {},
   "source": [
    "\n",
    "This runs in O(k^N) time and O(k) space, where N is the number of vertices, since we're iterating over k colors and we are backtracking over N vertices."
   ]
  },
  {
   "cell_type": "code",
   "execution_count": null,
   "id": "270f0b5b",
   "metadata": {},
   "outputs": [],
   "source": []
  }
 ],
 "metadata": {
  "kernelspec": {
   "display_name": "Python 3 (ipykernel)",
   "language": "python",
   "name": "python3"
  },
  "language_info": {
   "codemirror_mode": {
    "name": "ipython",
    "version": 3
   },
   "file_extension": ".py",
   "mimetype": "text/x-python",
   "name": "python",
   "nbconvert_exporter": "python",
   "pygments_lexer": "ipython3",
   "version": "3.8.10"
  }
 },
 "nbformat": 4,
 "nbformat_minor": 5
}
